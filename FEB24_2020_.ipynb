{
  "nbformat": 4,
  "nbformat_minor": 0,
  "metadata": {
    "colab": {
      "name": "FEB24-2020 .ipynb",
      "provenance": [],
      "collapsed_sections": [],
      "toc_visible": true,
      "include_colab_link": true
    },
    "kernelspec": {
      "name": "python3",
      "display_name": "Python 3"
    },
    "accelerator": "TPU"
  },
  "cells": [
    {
      "cell_type": "markdown",
      "metadata": {
        "id": "view-in-github",
        "colab_type": "text"
      },
      "source": [
        "<a href=\"https://colab.research.google.com/github/srideviGVP/HE2LaTeX/blob/master/FEB24_2020_.ipynb\" target=\"_parent\"><img src=\"https://colab.research.google.com/assets/colab-badge.svg\" alt=\"Open In Colab\"/></a>"
      ]
    },
    {
      "cell_type": "code",
      "metadata": {
        "id": "2Pk6WKgVKOjl",
        "colab_type": "code",
        "outputId": "4f926e10-670b-47bb-c116-39b3c997a295",
        "colab": {
          "base_uri": "https://localhost:8080/",
          "height": 1000
        }
      },
      "source": [
        "import sys\n",
        "sys.modules[__name__].__dict__.clear()\n",
        "import numpy as np\n",
        "import matplotlib.pyplot as plt\n",
        "from keras.models import Sequential\n",
        "from keras.layers.core import Dense, Activation,Dropout\n",
        "from keras.utils import np_utils\n",
        "import tensorflow as tf\n",
        "#import input_data\n",
        "import math\n",
        "import os\n",
        "from scipy import ndimage\n",
        "# fix a random seed for reproducibility\n",
        "from PIL import Image\n",
        "from keras.layers import Dense, Dropout, Flatten,  Conv2D, MaxPooling2D\n",
        "from keras import backend as K\n",
        "from keras.callbacks import EarlyStopping\n",
        "from collections import Counter\n",
        "import cv2\n",
        "from google.colab.patches import cv2_imshow\n",
        "def load_images_to_data(image_label, image_directory):\n",
        "  images=[]\n",
        "  global trainData\n",
        "  global trainLabels\n",
        "  input_images = os.listdir(image_directory)\n",
        "  list_of_files = os.listdir(image_directory)\n",
        "  for no in input_images:\n",
        "    image_file_name = os.path.join(image_directory, no)\n",
        "    im = cv2.imread(image_file_name)\n",
        "    gray=  cv2.resize(im,(50,50))\n",
        "    flatten = gray.flatten()/255.0\n",
        "    flatten = flatten.reshape(1,7500)\n",
        "    trainData = np.append(trainData, flatten, axis=0)\n",
        "    trainLabels = np.append(trainLabels, [image_label], axis=0)\n",
        "  #return features_data, label_data \n",
        "trainData= np.empty((1, 7500))\n",
        "trainLabels=  np.empty(1)\n",
        "trainLabels[0]=384\n",
        "i=0\n",
        "directory_list = list()\n",
        "for root, dirs, files in os.walk(\"/content/FINAL SPECIAL-SYMBOLS-DATABASE\", topdown=False):\n",
        "    for name in dirs:\n",
        "        directory_list.append(os.path.join(root, name))\n",
        "\n",
        "for name in directory_list:\n",
        "       # print(directory_list)\n",
        "        load_images_to_data(i,name)\n",
        "        print(name)\n",
        "        print(trainData.shape)\n",
        "        i=i+1\n",
        "        if i==100:\n",
        "          break\n",
        "trainData = np.delete(trainData, 0, axis=0)\n",
        "trainLabels = np.delete(trainLabels, 0, axis=0)\n",
        "from tempfile import TemporaryFile\n",
        "traindatafile = TemporaryFile()\n",
        "trainlabelfile = TemporaryFile()\n",
        "np.save(traindatafile,trainData)\n",
        "np.save(trainlabelfile, trainLabels)\n",
        "np.save('traindatafile.npy',trainData)\n",
        "np.save('trainlabelfile.npy',trainLabels)\n",
        "z=np.load('traindatafile.npy')\n",
        "y=np.load('trainlabelfile.npy')\n"
      ],
      "execution_count": 2,
      "outputs": [
        {
          "output_type": "stream",
          "text": [
            "Using TensorFlow backend.\n"
          ],
          "name": "stderr"
        },
        {
          "output_type": "display_data",
          "data": {
            "text/html": [
              "<p style=\"color: red;\">\n",
              "The default version of TensorFlow in Colab will soon switch to TensorFlow 2.x.<br>\n",
              "We recommend you <a href=\"https://www.tensorflow.org/guide/migrate\" target=\"_blank\">upgrade</a> now \n",
              "or ensure your notebook will continue to use TensorFlow 1.x via the <code>%tensorflow_version 1.x</code> magic:\n",
              "<a href=\"https://colab.research.google.com/notebooks/tensorflow_version.ipynb\" target=\"_blank\">more info</a>.</p>\n"
            ],
            "text/plain": [
              "<IPython.core.display.HTML object>"
            ]
          },
          "metadata": {
            "tags": []
          }
        },
        {
          "output_type": "stream",
          "text": [
            "/content/FINAL SPECIAL-SYMBOLS-DATABASE/0454\n",
            "(39, 7500)\n",
            "/content/FINAL SPECIAL-SYMBOLS-DATABASE/1b82\n",
            "(141, 7500)\n",
            "/content/FINAL SPECIAL-SYMBOLS-DATABASE/045a\n",
            "(170, 7500)\n",
            "/content/FINAL SPECIAL-SYMBOLS-DATABASE/18a2\n",
            "(208, 7500)\n",
            "/content/FINAL SPECIAL-SYMBOLS-DATABASE/4983\n",
            "(290, 7500)\n",
            "/content/FINAL SPECIAL-SYMBOLS-DATABASE/1dc3\n",
            "(320, 7500)\n",
            "/content/FINAL SPECIAL-SYMBOLS-DATABASE/0446\n",
            "(394, 7500)\n",
            "/content/FINAL SPECIAL-SYMBOLS-DATABASE/1dba\n",
            "(424, 7500)\n",
            "/content/FINAL SPECIAL-SYMBOLS-DATABASE/1d3d\n",
            "(2166, 7500)\n",
            "/content/FINAL SPECIAL-SYMBOLS-DATABASE/4138\n",
            "(2196, 7500)\n",
            "/content/FINAL SPECIAL-SYMBOLS-DATABASE/0456\n",
            "(2235, 7500)\n",
            "/content/FINAL SPECIAL-SYMBOLS-DATABASE/4278\n",
            "(3096, 7500)\n",
            "/content/FINAL SPECIAL-SYMBOLS-DATABASE/1c89\n",
            "(3375, 7500)\n",
            "/content/FINAL SPECIAL-SYMBOLS-DATABASE/4169\n",
            "(4506, 7500)\n",
            "/content/FINAL SPECIAL-SYMBOLS-DATABASE/4263\n",
            "(5710, 7500)\n",
            "/content/FINAL SPECIAL-SYMBOLS-DATABASE/4159\n",
            "(6023, 7500)\n",
            "/content/FINAL SPECIAL-SYMBOLS-DATABASE/0846\n",
            "(6081, 7500)\n",
            "/content/FINAL SPECIAL-SYMBOLS-DATABASE/0983\n",
            "(6362, 7500)\n",
            "/content/FINAL SPECIAL-SYMBOLS-DATABASE/0136\n",
            "(7564, 7500)\n",
            "/content/FINAL SPECIAL-SYMBOLS-DATABASE/0457\n",
            "(7601, 7500)\n",
            "/content/FINAL SPECIAL-SYMBOLS-DATABASE/1d3c\n",
            "(8617, 7500)\n",
            "/content/FINAL SPECIAL-SYMBOLS-DATABASE/1dc2\n",
            "(8721, 7500)\n",
            "/content/FINAL SPECIAL-SYMBOLS-DATABASE/0154\n",
            "(9813, 7500)\n",
            "/content/FINAL SPECIAL-SYMBOLS-DATABASE/0856\n",
            "(9848, 7500)\n",
            "/content/FINAL SPECIAL-SYMBOLS-DATABASE/4277\n",
            "(10725, 7500)\n",
            "/content/FINAL SPECIAL-SYMBOLS-DATABASE/1dbf\n",
            "(10755, 7500)\n",
            "/content/FINAL SPECIAL-SYMBOLS-DATABASE/0258\n",
            "(11501, 7500)\n",
            "/content/FINAL SPECIAL-SYMBOLS-DATABASE/0453\n",
            "(11562, 7500)\n",
            "/content/FINAL SPECIAL-SYMBOLS-DATABASE/0176\n",
            "(12407, 7500)\n",
            "/content/FINAL SPECIAL-SYMBOLS-DATABASE/4175\n",
            "(12921, 7500)\n",
            "/content/FINAL SPECIAL-SYMBOLS-DATABASE/0153\n",
            "(14021, 7500)\n",
            "/content/FINAL SPECIAL-SYMBOLS-DATABASE/024e\n",
            "(14209, 7500)\n",
            "/content/FINAL SPECIAL-SYMBOLS-DATABASE/19a4\n",
            "(14643, 7500)\n",
            "/content/FINAL SPECIAL-SYMBOLS-DATABASE/0150\n",
            "(15775, 7500)\n",
            "/content/FINAL SPECIAL-SYMBOLS-DATABASE/1b86\n",
            "(15959, 7500)\n",
            "/content/FINAL SPECIAL-SYMBOLS-DATABASE/1c82\n",
            "(16793, 7500)\n",
            "/content/FINAL SPECIAL-SYMBOLS-DATABASE/1d91\n",
            "(16832, 7500)\n",
            "/content/FINAL SPECIAL-SYMBOLS-DATABASE/0447\n",
            "(16872, 7500)\n",
            "/content/FINAL SPECIAL-SYMBOLS-DATABASE/4980\n",
            "(16902, 7500)\n",
            "/content/FINAL SPECIAL-SYMBOLS-DATABASE/1db9\n",
            "(16932, 7500)\n",
            "/content/FINAL SPECIAL-SYMBOLS-DATABASE/1d99\n",
            "(17130, 7500)\n",
            "/content/FINAL SPECIAL-SYMBOLS-DATABASE/4135\n",
            "(17174, 7500)\n",
            "/content/FINAL SPECIAL-SYMBOLS-DATABASE/0159\n",
            "(17665, 7500)\n",
            "/content/FINAL SPECIAL-SYMBOLS-DATABASE/1980\n",
            "(19986, 7500)\n",
            "/content/FINAL SPECIAL-SYMBOLS-DATABASE/4171\n",
            "(20470, 7500)\n",
            "/content/FINAL SPECIAL-SYMBOLS-DATABASE/4134\n",
            "(20490, 7500)\n",
            "/content/FINAL SPECIAL-SYMBOLS-DATABASE/0146\n",
            "(21442, 7500)\n",
            "/content/FINAL SPECIAL-SYMBOLS-DATABASE/143a\n",
            "(22310, 7500)\n",
            "/content/FINAL SPECIAL-SYMBOLS-DATABASE/0848\n",
            "(22339, 7500)\n",
            "/content/FINAL SPECIAL-SYMBOLS-DATABASE/4152\n",
            "(23026, 7500)\n",
            "/content/FINAL SPECIAL-SYMBOLS-DATABASE/0448\n",
            "(23067, 7500)\n",
            "/content/FINAL SPECIAL-SYMBOLS-DATABASE/414c\n",
            "(23598, 7500)\n",
            "/content/FINAL SPECIAL-SYMBOLS-DATABASE/4155\n",
            "(23982, 7500)\n",
            "/content/FINAL SPECIAL-SYMBOLS-DATABASE/1b85\n",
            "(24294, 7500)\n",
            "/content/FINAL SPECIAL-SYMBOLS-DATABASE/1db1\n",
            "(24303, 7500)\n",
            "/content/FINAL SPECIAL-SYMBOLS-DATABASE/0177\n",
            "(25112, 7500)\n",
            "/content/FINAL SPECIAL-SYMBOLS-DATABASE/4148\n",
            "(25625, 7500)\n",
            "/content/FINAL SPECIAL-SYMBOLS-DATABASE/1d94\n",
            "(25655, 7500)\n",
            "/content/FINAL SPECIAL-SYMBOLS-DATABASE/4157\n",
            "(25927, 7500)\n",
            "/content/FINAL SPECIAL-SYMBOLS-DATABASE/0167\n",
            "(27000, 7500)\n",
            "/content/FINAL SPECIAL-SYMBOLS-DATABASE/1c2d\n",
            "(29825, 7500)\n",
            "/content/FINAL SPECIAL-SYMBOLS-DATABASE/1989\n",
            "(29883, 7500)\n",
            "/content/FINAL SPECIAL-SYMBOLS-DATABASE/014f\n",
            "(30856, 7500)\n",
            "/content/FINAL SPECIAL-SYMBOLS-DATABASE/0441\n",
            "(30886, 7500)\n",
            "/content/FINAL SPECIAL-SYMBOLS-DATABASE/4163\n",
            "(31515, 7500)\n",
            "/content/FINAL SPECIAL-SYMBOLS-DATABASE/0452\n",
            "(31564, 7500)\n",
            "/content/FINAL SPECIAL-SYMBOLS-DATABASE/4133\n",
            "(31614, 7500)\n",
            "/content/FINAL SPECIAL-SYMBOLS-DATABASE/0852\n",
            "(31748, 7500)\n",
            "/content/FINAL SPECIAL-SYMBOLS-DATABASE/0443\n",
            "(31840, 7500)\n",
            "/content/FINAL SPECIAL-SYMBOLS-DATABASE/0141\n",
            "(32915, 7500)\n",
            "/content/FINAL SPECIAL-SYMBOLS-DATABASE/427e\n",
            "(33761, 7500)\n",
            "/content/FINAL SPECIAL-SYMBOLS-DATABASE/0850\n",
            "(33823, 7500)\n",
            "/content/FINAL SPECIAL-SYMBOLS-DATABASE/1840\n",
            "(33885, 7500)\n",
            "/content/FINAL SPECIAL-SYMBOLS-DATABASE/044f\n",
            "(33953, 7500)\n",
            "/content/FINAL SPECIAL-SYMBOLS-DATABASE/416d\n",
            "(34678, 7500)\n",
            "/content/FINAL SPECIAL-SYMBOLS-DATABASE/1b8e\n",
            "(34913, 7500)\n",
            "/content/FINAL SPECIAL-SYMBOLS-DATABASE/0980\n",
            "(34943, 7500)\n",
            "/content/FINAL SPECIAL-SYMBOLS-DATABASE/084a\n",
            "(34973, 7500)\n",
            "/content/FINAL SPECIAL-SYMBOLS-DATABASE/4154\n",
            "(35569, 7500)\n",
            "/content/FINAL SPECIAL-SYMBOLS-DATABASE/4165\n",
            "(36201, 7500)\n",
            "/content/FINAL SPECIAL-SYMBOLS-DATABASE/4145\n",
            "(36677, 7500)\n",
            "/content/FINAL SPECIAL-SYMBOLS-DATABASE/1c5c\n",
            "(36954, 7500)\n",
            "/content/FINAL SPECIAL-SYMBOLS-DATABASE/0844\n",
            "(36989, 7500)\n",
            "/content/FINAL SPECIAL-SYMBOLS-DATABASE/0847\n",
            "(37019, 7500)\n",
            "/content/FINAL SPECIAL-SYMBOLS-DATABASE/0156\n",
            "(37625, 7500)\n",
            "/content/FINAL SPECIAL-SYMBOLS-DATABASE/4982\n",
            "(37711, 7500)\n",
            "/content/FINAL SPECIAL-SYMBOLS-DATABASE/0442\n",
            "(37771, 7500)\n",
            "/content/FINAL SPECIAL-SYMBOLS-DATABASE/1d80\n",
            "(39162, 7500)\n",
            "/content/FINAL SPECIAL-SYMBOLS-DATABASE/044d\n",
            "(39220, 7500)\n",
            "/content/FINAL SPECIAL-SYMBOLS-DATABASE/1c80\n",
            "(39660, 7500)\n",
            "/content/FINAL SPECIAL-SYMBOLS-DATABASE/1d9a\n",
            "(39909, 7500)\n",
            "/content/FINAL SPECIAL-SYMBOLS-DATABASE/1c87\n",
            "(40858, 7500)\n",
            "/content/FINAL SPECIAL-SYMBOLS-DATABASE/4139\n",
            "(40880, 7500)\n",
            "/content/FINAL SPECIAL-SYMBOLS-DATABASE/0857\n",
            "(40910, 7500)\n",
            "/content/FINAL SPECIAL-SYMBOLS-DATABASE/0982\n",
            "(41128, 7500)\n",
            "/content/FINAL SPECIAL-SYMBOLS-DATABASE/1c26\n",
            "(41278, 7500)\n",
            "/content/FINAL SPECIAL-SYMBOLS-DATABASE/01ea\n",
            "(41279, 7500)\n",
            "/content/FINAL SPECIAL-SYMBOLS-DATABASE/4141\n",
            "(42019, 7500)\n",
            "/content/FINAL SPECIAL-SYMBOLS-DATABASE/1d3e\n",
            "(42800, 7500)\n",
            "/content/FINAL SPECIAL-SYMBOLS-DATABASE/4176\n",
            "(43286, 7500)\n"
          ],
          "name": "stdout"
        }
      ]
    },
    {
      "cell_type": "code",
      "metadata": {
        "id": "ddCkCVMmSj2b",
        "colab_type": "code",
        "colab": {}
      },
      "source": [
        "a=np.load('traindatafile.npy')"
      ],
      "execution_count": 0,
      "outputs": []
    },
    {
      "cell_type": "code",
      "metadata": {
        "id": "DdVUNhA1-wjK",
        "colab_type": "code",
        "colab": {
          "base_uri": "https://localhost:8080/",
          "height": 189
        },
        "outputId": "eaa1935b-a1db-440f-9f46-c93afe3f5886"
      },
      "source": [
        "a=z\n",
        "b=y"
      ],
      "execution_count": 1,
      "outputs": [
        {
          "output_type": "error",
          "ename": "NameError",
          "evalue": "ignored",
          "traceback": [
            "\u001b[0;31m---------------------------------------------------------------------------\u001b[0m",
            "\u001b[0;31mNameError\u001b[0m                                 Traceback (most recent call last)",
            "\u001b[0;32m<ipython-input-1-608ddb279b3c>\u001b[0m in \u001b[0;36m<module>\u001b[0;34m()\u001b[0m\n\u001b[0;32m----> 1\u001b[0;31m \u001b[0ma\u001b[0m\u001b[0;34m=\u001b[0m\u001b[0mz\u001b[0m\u001b[0;34m\u001b[0m\u001b[0;34m\u001b[0m\u001b[0m\n\u001b[0m\u001b[1;32m      2\u001b[0m \u001b[0mb\u001b[0m\u001b[0;34m=\u001b[0m\u001b[0my\u001b[0m\u001b[0;34m\u001b[0m\u001b[0;34m\u001b[0m\u001b[0m\n",
            "\u001b[0;31mNameError\u001b[0m: name 'z' is not defined"
          ]
        }
      ]
    },
    {
      "cell_type": "code",
      "metadata": {
        "id": "hbi4xC4yG5sb",
        "colab_type": "code",
        "colab": {}
      },
      "source": [
        "import os\n",
        "for root, dirs, files in os.walk(\"/content/FINAL SPECIAL-SYMBOLS-DATABASE\", topdown=False):\n",
        "    for name in dirs:\n",
        "        print(name)"
      ],
      "execution_count": 0,
      "outputs": []
    },
    {
      "cell_type": "code",
      "metadata": {
        "id": "ecNWQpFf68WE",
        "colab_type": "code",
        "colab": {
          "base_uri": "https://localhost:8080/",
          "height": 35
        },
        "outputId": "7f7ea2a1-c0d2-4e5f-841b-9fb22003694f"
      },
      "source": [
        "print(z.shape)"
      ],
      "execution_count": 9,
      "outputs": [
        {
          "output_type": "stream",
          "text": [
            "(43285, 7500)\n"
          ],
          "name": "stdout"
        }
      ]
    },
    {
      "cell_type": "code",
      "metadata": {
        "id": "cREfrgvhU6Pz",
        "colab_type": "code",
        "colab": {}
      },
      "source": [
        "def save_file_to_drive(name, path):\n",
        "    file_metadata = {\n",
        "      'name': name,\n",
        "      'mimeType': 'application/octet-stream'\n",
        "     }\n",
        "save_file_to_drive(\"/content/drive/My Drive/Colab Notebooks\", \"/content/trainlabelfile.npy\")\n",
        "\n"
      ],
      "execution_count": 0,
      "outputs": []
    },
    {
      "cell_type": "code",
      "metadata": {
        "id": "jAbWvRkEEh8C",
        "colab_type": "code",
        "outputId": "8ea5edbf-2f94-4913-d59c-752be7f882fe",
        "colab": {
          "base_uri": "https://localhost:8080/",
          "height": 128
        }
      },
      "source": [
        "from google.colab import drive\n",
        "drive.mount('/content/drive')"
      ],
      "execution_count": 1,
      "outputs": [
        {
          "output_type": "stream",
          "text": [
            "Go to this URL in a browser: https://accounts.google.com/o/oauth2/auth?client_id=947318989803-6bn6qk8qdgf4n4g3pfee6491hc0brc4i.apps.googleusercontent.com&redirect_uri=urn%3aietf%3awg%3aoauth%3a2.0%3aoob&response_type=code&scope=email%20https%3a%2f%2fwww.googleapis.com%2fauth%2fdocs.test%20https%3a%2f%2fwww.googleapis.com%2fauth%2fdrive%20https%3a%2f%2fwww.googleapis.com%2fauth%2fdrive.photos.readonly%20https%3a%2f%2fwww.googleapis.com%2fauth%2fpeopleapi.readonly\n",
            "\n",
            "Enter your authorization code:\n",
            "··········\n",
            "Mounted at /content/drive\n"
          ],
          "name": "stdout"
        }
      ]
    },
    {
      "cell_type": "code",
      "metadata": {
        "id": "L8VJkXrlxwdy",
        "colab_type": "code",
        "outputId": "bce3a753-19c3-4e7d-a91e-a1bee1b9c277",
        "colab": {
          "base_uri": "https://localhost:8080/",
          "height": 35
        }
      },
      "source": [
        "print(u'\\u03B1')"
      ],
      "execution_count": 0,
      "outputs": [
        {
          "output_type": "stream",
          "text": [
            "α\n"
          ],
          "name": "stdout"
        }
      ]
    },
    {
      "cell_type": "markdown",
      "metadata": {
        "id": "lWrWAXGWnI9G",
        "colab_type": "text"
      },
      "source": [
        ""
      ]
    },
    {
      "cell_type": "code",
      "metadata": {
        "id": "Q0kYzgRtFLHV",
        "colab_type": "code",
        "colab": {}
      },
      "source": [
        "!unzip -q \"/content/drive/My Drive/FINAL SPECIAL-SYMBOLS-DATABASE.zip\""
      ],
      "execution_count": 0,
      "outputs": []
    }
  ]
}